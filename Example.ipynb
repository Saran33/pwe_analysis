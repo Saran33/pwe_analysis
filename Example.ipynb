{
 "cells": [
  {
   "cell_type": "code",
   "execution_count": null,
   "source": [
    "#import os\n",
    "#os.chdir()\n",
    "#import sys\n",
    "#sys.path.append('/Users/')\n",
    "#print (os.getcwd())\n",
    "from pwe import pwetools,charts,returns,vol,quan,cmc\n",
    "from datetime import date\n",
    "import time"
   ],
   "outputs": [],
   "metadata": {}
  },
  {
   "cell_type": "code",
   "execution_count": null,
   "source": [
    "security = 'Bitcoin'\n",
    "symbol = 'BTC'\n",
    "market = 'USD'\n",
    "interval = 'daily'\n",
    "chart_interval = 'Daily'\n",
    "period = 'Day'\n",
    "p = 'Day'\n",
    "asPlot = True\n",
    "start_date = \"01-01-2017\"\n",
    "end_date = date.today().strftime(\"%d-%m-%Y\")"
   ],
   "outputs": [],
   "metadata": {}
  },
  {
   "cell_type": "code",
   "execution_count": null,
   "source": [
    "## Download CoinMarketCap data:\n",
    "BTC = cmc.cmc_data(ticker=symbol,start_date=start_date,end_date=end_date)"
   ],
   "outputs": [],
   "metadata": {}
  },
  {
   "cell_type": "code",
   "execution_count": null,
   "source": [
    "settlements = dict({'2021-01-29': 'CME Exp.', '2021-02-26': 'CME Exp.', \n",
    "                    '2021-03-26': 'CME Exp.', '2021-04-30': 'CME Exp.', \n",
    "                    '2021-05-28': 'CME Exp.', '2021-06-25': 'CME Exp.', \n",
    "                    '2021-07-30': 'CME Exp.'})\n"
   ],
   "outputs": [],
   "metadata": {}
  },
  {
   "cell_type": "code",
   "execution_count": null,
   "source": [
    "# The default date range to display on charts:\n",
    "auto_start = '2021-01-01'\n",
    "auto_end = '2021-08-15'"
   ],
   "outputs": [],
   "metadata": {}
  },
  {
   "cell_type": "code",
   "execution_count": null,
   "source": [
    "charts.quant_chart_int(BTC,start_date,end_date,ticker=symbol,\n",
    "                       theme='white',auto_start=auto_start,auto_end=auto_end,\n",
    "                       asPlot=asPlot,showlegend=True,boll_std=2,boll_periods=20,\n",
    "                       showboll=True,showrsi=True,rsi_periods=14,showama=True,\n",
    "                       ama_periods=9,showvol=True,show_price_range=True,\n",
    "                       textangle=60,annots=settlements)"
   ],
   "outputs": [],
   "metadata": {}
  },
  {
   "cell_type": "code",
   "execution_count": null,
   "source": [
    "## Download Quandl data. Input your key the first time and then no need to input a key arguement again.\n",
    "BTC_Bitfinex = quan.quandl_data(symbol='BITFINEX/BTCUSD',\n",
    "                                start_date=start_date,end_date=end_date, key='MY_API_KEY)"
   ],
   "outputs": [],
   "metadata": {}
  },
  {
   "cell_type": "code",
   "execution_count": null,
   "source": [
    "time.sleep(1)\n",
    "price = 'Last'\n",
    "exchange = 'Bitfinex'\n",
    "\n",
    "charts.pwe_line_chart(BTC_Bitfinex,columns=[price],start_date=start_date,end_date=end_date,kind='scatter',\n",
    "                      title=f'{exchange} {security} {chart_interval} {price}',\n",
    "                  ticker=symbol,yTitle=f'{symbol}/{market}',asPlot=asPlot,showlegend=False,\n",
    "                  theme='white',auto_start=auto_start,auto_end=auto_end,\n",
    "                  connectgaps=False)"
   ],
   "outputs": [],
   "metadata": {}
  },
  {
   "cell_type": "code",
   "execution_count": null,
   "source": [
    "## Calculate Returns:\n",
    "returns.get_returns(BTC, price='Close');\n",
    "returns.get_returns(BTC_Bitfinex, price='Last');"
   ],
   "outputs": [],
   "metadata": {}
  },
  {
   "cell_type": "code",
   "execution_count": null,
   "source": [
    "## Calculate 30 Day Volatility:\n",
    "# In this case, \"window\" represets days:\n",
    "vol_window = 30\n",
    "vol.get_vol(BTC_Bitfinex, window=vol_window, column='Price_Returns',trading_periods=365,interval=interval);\n"
   ],
   "outputs": [],
   "metadata": {}
  },
  {
   "cell_type": "code",
   "execution_count": null,
   "source": [
    "## Calculate 30 Day YangZhang Volatility Estimator (Requires OHLC data):\n",
    "vol.YangZhang_estimator(BTC, window=vol_window,trading_periods=365, clean=True,interval=interval);"
   ],
   "outputs": [],
   "metadata": {}
  },
  {
   "cell_type": "code",
   "execution_count": null,
   "source": [
    "## Returns Profile:\n",
    "bitfinex_btc_stats = returns.return_stats(BTC_Bitfinex,returns='Price_Returns',price='Last',\n",
    "                                          trading_periods=365,interval=interval,market_hours=24,vol_window=vol_window)"
   ],
   "outputs": [],
   "metadata": {}
  },
  {
   "cell_type": "code",
   "execution_count": null,
   "source": [
    "## PLot the Returns & Volatility Distributions:\n",
    "btc_dist = charts.pwe_return_dist_chart(BTC_Bitfinex,start_date,end_date,tseries='Price_Returns',kind='scatter',\n",
    "                                    title=f'{chart_interval} {security} Returns on {exchange}',ticker=symbol,yTitle=f'{symbol}/{market} (%)',asPlot=asPlot,\n",
    "                                    showlegend=False,theme='white',auto_start=auto_start, auto_end=end_date,\n",
    "                                    connectgaps=False,tickformat='.0%',decimals=2)"
   ],
   "outputs": [],
   "metadata": {}
  },
  {
   "cell_type": "code",
   "execution_count": null,
   "source": [
    "btc_dist_bar = charts.pwe_return_bar_chart(BTC_Bitfinex,start_date,end_date,tseries='Price_Returns',kind='bar',\n",
    "                                             title=f'{exchange} {security} {chart_interval} Returns',\n",
    "                                             ticker=symbol,yTitle=f'{symbol}/{market} (%)',xTitle=None,asPlot=asPlot,theme='white',\n",
    "                                             showlegend=False,auto_start=auto_start,auto_end=end_date,tickformat='.0%',\n",
    "                                             decimals=2,orientation='v',textangle=0)"
   ],
   "outputs": [],
   "metadata": {}
  },
  {
   "cell_type": "code",
   "execution_count": null,
   "source": [
    "btc_yz30_dist = charts.pwe_return_dist_chart(BTC,start_date,end_date,\n",
    "                                             tseries=f'YangZhang{vol_window}_{p}_Ann',kind='scatter',\n",
    "                                    title=f'Spot {security} to US Dollars ({exchange}): Annualized Yang-Zhang {vol_window} {period} Volatility',\n",
    "                                             ticker=f'{symbol}-{market} YZ Vol.',yTitle=f'{symbol}/{market} YZ Vol.',\n",
    "                                             asPlot=asPlot,showlegend=False,theme='white',\n",
    "                                             auto_start=auto_start,auto_end=end_date,\n",
    "                                             connectgaps=False,tickformat='.0%',decimals=2)"
   ],
   "outputs": [],
   "metadata": {}
  },
  {
   "cell_type": "code",
   "execution_count": null,
   "source": [
    "btc_vol30_dist = charts.pwe_return_dist_chart(BTC_Bitfinex,start_date,end_date,\n",
    "                                              tseries=f'Ann_Vol_{vol_window}_{p}',kind='scatter',\n",
    "                                    title=f'Spot {security} to US Dollars: Annualized {vol_window} {period} Volatility',\n",
    "                                             ticker=f'{symbol}-{market} Vol.',yTitle=f'{symbol}/{market} Vol.',asPlot=asPlot,\n",
    "                                             showlegend=False,theme='white',auto_start=auto_start,auto_end=end_date,\n",
    "                                             connectgaps=False,tickformat='.0%',decimals=2)"
   ],
   "outputs": [],
   "metadata": {}
  },
  {
   "cell_type": "code",
   "execution_count": null,
   "source": [
    "## Returns by Subseries:\n",
    "### 2019\n",
    "df_2019 = returns.get_sub_series(BTC,start_date='2019-1-1',end_date='2019-12-31')\n",
    "df_2019.name = 2019\n",
    "df_2019"
   ],
   "outputs": [],
   "metadata": {}
  },
  {
   "cell_type": "code",
   "execution_count": null,
   "source": [
    "returns.get_returns(df_2019, price='Close');\n",
    "vol.YangZhang_estimator(df_2019, window=vol_window, trading_periods=365, clean=True,interval=interval);\n",
    "vol.get_vol(df_2019, window=vol_window, column='Price_Returns',trading_periods=365,interval=interval);\n",
    "df_2019"
   ],
   "outputs": [],
   "metadata": {}
  },
  {
   "cell_type": "code",
   "execution_count": null,
   "source": [
    "stats_2019 = returns.return_stats(df_2019,returns='Price_Returns',price='Close',trading_periods=365,interval='daily',market_hours=24);\n"
   ],
   "outputs": [],
   "metadata": {}
  }
 ],
 "metadata": {
  "kernelspec": {
   "name": "python3",
   "display_name": "Python 3.9.6 64-bit ('pwepip': conda)"
  },
  "language_info": {
   "name": "python",
   "version": "3.9.6",
   "mimetype": "text/x-python",
   "codemirror_mode": {
    "name": "ipython",
    "version": 3
   },
   "pygments_lexer": "ipython3",
   "nbconvert_exporter": "python",
   "file_extension": ".py"
  },
  "interpreter": {
   "hash": "497581ab8b68e3c2ef39c47d7e3c0ff119b32f5944e17571db2f7dc83154eb86"
  }
 },
 "nbformat": 4,
 "nbformat_minor": 5
}