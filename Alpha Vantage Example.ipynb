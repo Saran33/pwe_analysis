{
 "cells": [
  {
   "cell_type": "code",
   "execution_count": null,
   "metadata": {},
   "outputs": [],
   "source": [
    "import os\n",
    "import time\n",
    "import requests\n",
    "import pandas as pd\n",
    "import numpy as np\n",
    "from pwe import charts,analysis,quan,cmc,pwetools\n",
    "from datetime import datetime, date, timedelta, timezone\n",
    "from alpha_vantage.cryptocurrencies import CryptoCurrencies"
   ]
  },
  {
   "cell_type": "code",
   "execution_count": null,
   "metadata": {},
   "outputs": [],
   "source": [
    "# https://strftime.org/\n",
    "td = date.today()\n",
    "today = td.strftime(\"%d-%m-%Y\")\n",
    "today_dmy = str(today)\n",
    "\n",
    "utc_now = datetime.utcnow()\n",
    "utc_now.isoformat()\n",
    "today_utc = utc_now.strftime(\"%d-%m-%Y\")\n",
    "\n",
    "end_date = today_dmy\n",
    "end = datetime.strptime(td.strftime('%Y-%m-%d'),'%Y-%m-%d')\n",
    "\n",
    "# utc_end = pd.to_datetime(utc_end)\n",
    "utc_end = pd.Timestamp.utcnow()\n",
    "\n",
    "interval = timedelta(1)\n",
    "yesterday = td - interval\n",
    "yest = yesterday.strftime(\"%d-%m-%Y\")\n",
    "yesterday_dmy = str(yest)\n",
    "print(\"Yesterday:\",yesterday_dmy)\n",
    "print(\"\")\n",
    "\n",
    "# Input start date:\n",
    "#########################\n",
    "start_date = \"01-01-2017\"\n",
    "#########################\n",
    "\n",
    "start = datetime.strptime(\"2017-01-01\",'%Y-%m-%d')\n",
    "utc_start = f\"{start_date} 16:00:00.000 UTC\"\n",
    "#utc_start = datetime.strptime(utc_start,'%d-%m-%Y %H:%M:%S.%f %Z')\n",
    "utc_start = pd.to_datetime(utc_start)\n",
    "#utc_start = start.isoformat()\n",
    "\n",
    "chart_start = utc_now - timedelta(days=365)\n",
    "auto_start = chart_start.strftime(\"%d-%m-%Y\")\n",
    "\n",
    "print (\"autostart:\",auto_start)\n",
    "print(\"\")\n",
    "\n",
    "ticker = \"BTC\"\n",
    "\n",
    "print(\"Today's date:\", today_dmy)\n",
    "print (utc_now, \"UTC\")\n",
    "print(\"\")\n",
    "print(\"Start date:\", start_date)\n",
    "print(\"Start time:\",utc_start, \"UTC\")\n",
    "print(\"\")\n",
    "print(\"End date:\", end_date)\n",
    "print (utc_end, \"UTC\")\n",
    "print(\"\")\n",
    "print(\"Security:\", ticker)"
   ]
  },
  {
   "cell_type": "code",
   "execution_count": null,
   "metadata": {},
   "outputs": [],
   "source": [
    "av_api = 'ALPHAVANTAGE_API_KEY'\n",
    "security = 'Bitcoin'\n",
    "symbol = 'BTC'\n",
    "market = 'USD'\n",
    "interval = '60min'\n",
    "chart_interval = 'Hourly'\n",
    "period = 'Hour'\n",
    "outputsize = 'full'\n",
    "# outputsize='compact'"
   ]
  },
  {
   "cell_type": "code",
   "execution_count": null,
   "metadata": {},
   "outputs": [],
   "source": [
    "tkr = symbol.replace('/', '_')\n",
    "\n",
    "file = 'csv_files/BTC_USD_60min_full_2021-07-08_00,00,00-2021-08-18_19,00,00_asof_18-08-2021_23,21.csv'\n",
    "file_path = os.path.abspath(file)\n",
    "\n",
    "print (file_path)"
   ]
  },
  {
   "cell_type": "code",
   "execution_count": null,
   "metadata": {},
   "outputs": [],
   "source": [
    "if os.path.exists(file_path) == True:\n",
    "    \n",
    "    print (\"Reading recent file from CSV...\")\n",
    "    print (file_path)\n",
    "    df = pd.read_csv(file_path,low_memory=False, index_col=['DateTime'], parse_dates=['DateTime','Date'],infer_datetime_format=True)\n",
    "    df.name = symbol\n",
    "    df\n",
    "    \n",
    "else:\n",
    "    print (\"No CSV found. Downloading data from API\")\n",
    "    cc = CryptoCurrencies(key=av_api,output_format='pandas') # retries=5\n",
    "    # Get json object with the intraday data and another with  the call's metadata\n",
    "    data, meta_data = cc.get_digital_currency_intraday(symbol, market, interval, outputsize)\n",
    "    df = data.copy()\n",
    "    pwetools.del_col_num(df)\n",
    "    pwetools.sort_index(df)\n",
    "    df.index.names = ['DateTime']\n",
    "    df.name = symbol\n",
    "    pwetools.df_to_csv(df,symbol,market,interval,outputsize)\n",
    "    df\n",
    "    "
   ]
  },
  {
   "cell_type": "code",
   "execution_count": null,
   "metadata": {},
   "outputs": [],
   "source": [
    "df.info()"
   ]
  },
  {
   "cell_type": "code",
   "execution_count": null,
   "metadata": {},
   "outputs": [],
   "source": [
    "start_date = \"01-01-2017\"\n",
    "end_date = date.today().strftime(\"%d-%m-%Y\")\n",
    "\n",
    "annotations = dict({'2021-01-29': 'CME Exp.', '2021-02-26': 'CME Exp.', \n",
    "                    '2021-03-26': 'CME Exp.', '2021-04-30': 'CME Exp.', \n",
    "                    '2021-05-28': 'CME Exp.', '2021-06-25': 'CME Exp.', \n",
    "                    '2021-07-30': 'CME Exp.'})\n",
    "\n",
    "auto_start = '2021-07-15'\n",
    "auto_end = '2021-08-15'\n",
    "asPlot = False\n",
    "trading_periods = 365\n",
    "market_hours = 24\n",
    "interval = 'hourly'\n",
    "p = 'Hr.'"
   ]
  },
  {
   "cell_type": "code",
   "execution_count": null,
   "metadata": {},
   "outputs": [],
   "source": [
    "charts.quant_chart_int(df,start_date,end_date,ticker=symbol,\n",
    "                       theme='white',auto_start=auto_start,auto_end=auto_end,\n",
    "                       asPlot=asPlot,showlegend=True,boll_std=2,boll_periods=20,\n",
    "                       showboll=True,showrsi=True,rsi_periods=14,showama=True,\n",
    "                       ama_periods=9,showvol=True,show_price_range=True,\n",
    "                       textangle=60,annots=None)"
   ]
  },
  {
   "cell_type": "code",
   "execution_count": null,
   "metadata": {},
   "outputs": [],
   "source": [
    "time.sleep(1)\n",
    "\n",
    "charts.pwe_line_chart(df,columns=['Close'],start_date=start_date,end_date=end_date,kind='scatter',\n",
    "                      title=f'{security} {chart_interval} Close',\n",
    "                  ticker=symbol,yTitle=f'{ticker}/{market}',asPlot=asPlot,showlegend=False,\n",
    "                  theme='white',auto_start=auto_start,auto_end=auto_end,\n",
    "                  connectgaps=False,annots=None)"
   ]
  },
  {
   "cell_type": "code",
   "execution_count": null,
   "metadata": {},
   "outputs": [],
   "source": [
    "## Calculate Returns:\n",
    "returns.get_returns(df, price='Close');\n",
    "\n",
    "# A 30 day vol window for BTC is 720 hours, as this is hourly data.\n",
    "# In this case, the window represets hours:\n",
    "vol_window = 30\n",
    "interval = 'hourly'\n",
    "\n",
    "## Calculate 30 Day Volatility:\n",
    "vol.get_vol(df, window=vol_window, column='Price_Returns',trading_periods=365,interval=interval);\n",
    "\n",
    "## Calculate 30 Day YangZhang Volatility Estimator (Requires OHLC data):\n",
    "vol.YangZhang_estimator(df, window=vol_window,trading_periods=365, clean=True,interval=interval);"
   ]
  },
  {
   "cell_type": "code",
   "execution_count": null,
   "metadata": {},
   "outputs": [],
   "source": [
    "## Returns Profile:\n",
    "stats = returns.return_stats(df,returns='Price_Returns',price='Close',\n",
    "                                          trading_periods=365,interval=interval,market_hours=24,vol_window=vol_window);"
   ]
  },
  {
   "cell_type": "code",
   "execution_count": null,
   "metadata": {},
   "outputs": [],
   "source": [
    "## PLot the Returns & Volatility Distributions:\n",
    "\n",
    "dist = charts.pwe_return_dist_chart(df,start_date,end_date,tseries='Price_Returns',kind='scatter',\n",
    "                                    title='Daily Bitcoin Returns on Bitfinex',ticker=symbol,yTitle=f'{symbol} (%)',\n",
    "                                    asPlot=asPlot,showlegend=False,theme='white',auto_start=auto_start,\n",
    "                                    auto_end=end_date,connectgaps=False,tickformat='.0%',decimals=2)"
   ]
  },
  {
   "cell_type": "code",
   "execution_count": null,
   "metadata": {},
   "outputs": [],
   "source": [
    "dist_bar = charts.pwe_return_bar_chart(df,start_date,end_date,tseries='Price_Returns',kind='bar',\n",
    "                                             title='Bitcoin Daily Returns',\n",
    "                                             ticker=symbol,yTitle=f'{symbol} (%)',xTitle=None,asPlot=asPlot,theme='white',\n",
    "                                             showlegend=False,auto_start=auto_start,auto_end=end_date,tickformat='.0%',\n",
    "                                             decimals=2,orientation='v',textangle=0)"
   ]
  },
  {
   "cell_type": "code",
   "execution_count": null,
   "metadata": {},
   "outputs": [],
   "source": [
    "yz30_dist = charts.pwe_return_dist_chart(df,start_date,end_date,\n",
    "                                             tseries=f'YangZhang{vol_window}_{p}_Ann',kind='scatter',\n",
    "                                    title='Spot Bitcoin to US Dollars: Annualized Yang-Zhang 30 Hour Volatility',\n",
    "                                             ticker=f'{symbol} YZ Vol.',yTitle='BTC/USD YZ Vol.',\n",
    "                                             asPlot=asPlot,showlegend=False,theme='white',\n",
    "                                             auto_start=auto_start,auto_end=auto_end,\n",
    "                                             connectgaps=False,tickformat='.0%',decimals=2)"
   ]
  },
  {
   "cell_type": "code",
   "execution_count": null,
   "metadata": {},
   "outputs": [],
   "source": [
    "vol30_dist = charts.pwe_return_dist_chart(df,start_date,end_date,\n",
    "                                              tseries=f'Ann_Vol_{vol_window}_{p}',kind='scatter',\n",
    "                                    title='Spot Bitcoin to US Dollars: Annualized 30 Day Volatility',\n",
    "                                             ticker=f'{symbol} Vol.',yTitle=f'{symbol} Vol.',asPlot=asPlot,\n",
    "                                             showlegend=False,theme='white',auto_start=auto_start,auto_end=end_date,\n",
    "                                             connectgaps=False,tickformat='.0%',decimals=2)\n",
    "\n"
   ]
  },
  {
   "cell_type": "code",
   "execution_count": null,
   "metadata": {},
   "outputs": [],
   "source": [
    "## Returns by Subseries:\n",
    "### 2021\n",
    "df_2021 = returns.get_sub_series(df,start_date='2021-1-1',end_date='2021-12-31')\n",
    "df_2021.name = 2021\n",
    "df_2021"
   ]
  },
  {
   "cell_type": "code",
   "execution_count": null,
   "metadata": {},
   "outputs": [],
   "source": [
    "returns.get_returns(df_2021, price='Close');\n",
    "vol.YangZhang_estimator(df_2021, window=vol_window, trading_periods=365, clean=True,interval=interval);\n",
    "vol.get_vol(df_2021, window=vol_window, column='Price_Returns',trading_periods=365,interval=interval);\n",
    "df_2021"
   ]
  },
  {
   "cell_type": "code",
   "execution_count": null,
   "metadata": {},
   "outputs": [],
   "source": [
    "stats_2021 = returns.return_stats(df_2021,returns='Price_Returns',price='Close',trading_periods=365,interval='hourly',market_hours=24);\n"
   ]
  }
 ],
 "metadata": {
  "interpreter": {
   "hash": "497581ab8b68e3c2ef39c47d7e3c0ff119b32f5944e17571db2f7dc83154eb86"
  },
  "kernelspec": {
   "display_name": "Python 3.9.6 64-bit ('pwepip': conda)",
   "name": "python3"
  },
  "language_info": {
   "codemirror_mode": {
    "name": "ipython",
    "version": 3
   },
   "file_extension": ".py",
   "mimetype": "text/x-python",
   "name": "python",
   "nbconvert_exporter": "python",
   "pygments_lexer": "ipython3",
   "version": "3.9.6"
  }
 },
 "nbformat": 4,
 "nbformat_minor": 5
}
